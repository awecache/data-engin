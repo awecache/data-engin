{
 "cells": [
  {
   "cell_type": "code",
   "execution_count": 1,
   "metadata": {},
   "outputs": [],
   "source": [
    "import json"
   ]
  },
  {
   "cell_type": "code",
   "execution_count": 3,
   "metadata": {},
   "outputs": [],
   "source": [
    "filename='10K.github.jsonl'\n",
    "commits =[]\n",
    "with open(filename, encoding=\"utf8\") as commits_file:\n",
    "    for line in commits_file:\n",
    "        commits.append(json.loads(line))"
   ]
  },
  {
   "cell_type": "code",
   "execution_count": 4,
   "metadata": {},
   "outputs": [
    {
     "name": "stdout",
     "output_type": "stream",
     "text": [
      "{'id': '11185349967', 'type': 'PushEvent', 'actor': {'id': 8517910, 'login': 'LombiqBot', 'display_login': 'LombiqBot', 'gravatar_id': '', 'url': 'https://api.github.com/users/LombiqBot', 'avatar_url': 'https://avatars.githubusercontent.com/u/8517910?'}, 'repo': {'id': 46622658, 'name': 'Lombiq/Orchard-JavaScript.Net', 'url': 'https://api.github.com/repos/Lombiq/Orchard-JavaScript.Net'}, 'payload': {'push_id': 4450652982, 'size': 0, 'distinct_size': 0, 'ref': 'refs/heads/orchard-upgrade-1.9.2', 'head': 'f60b0996a30cfaf7ff15ce93e4f81da69df398fd', 'before': 'f60b0996a30cfaf7ff15ce93e4f81da69df398fd', 'commits': []}, 'public': True, 'created_at': '2020-01-01T00:41:01Z', 'org': {'id': 8158177, 'login': 'Lombiq', 'gravatar_id': '', 'url': 'https://api.github.com/orgs/Lombiq', 'avatar_url': 'https://avatars.githubusercontent.com/u/8158177?'}}\n"
     ]
    }
   ],
   "source": [
    "\n",
    "push_event_commits=[commit for commit in commits if commit['type']=='PushEvent']\n",
    "print(push_event_commits[0])"
   ]
  },
  {
   "cell_type": "code",
   "execution_count": 5,
   "metadata": {},
   "outputs": [
    {
     "data": {
      "text/plain": [
       "'LombiqBot'"
      ]
     },
     "execution_count": 5,
     "metadata": {},
     "output_type": "execute_result"
    }
   ],
   "source": [
    "commit=push_event_commits[0]\n",
    "commit.get('actor').get('display_login')"
   ]
  },
  {
   "cell_type": "code",
   "execution_count": 6,
   "metadata": {},
   "outputs": [],
   "source": [
    "# check if author display_login is unique\n",
    "author_id_name_dict={}\n",
    "\n",
    "for commit in push_event_commits:\n",
    "    key=commit.get('actor').get('id')\n",
    "    display_login=commit.get('actor').get('display_login')\n",
    "    if key not in author_id_name_dict:\n",
    "        author_id_name_dict[key]=display_login\n",
    "    else:\n",
    "        if display_login!=author_id_name_dict[key]:\n",
    "            print('Display name is different! ')\n"
   ]
  },
  {
   "cell_type": "code",
   "execution_count": null,
   "metadata": {},
   "outputs": [],
   "source": [
    "# not required\n",
    "for val in author_id_name_dict.values():\n",
    "    if(val=='bors'):\n",
    "        print('bors exists')"
   ]
  },
  {
   "cell_type": "code",
   "execution_count": 7,
   "metadata": {},
   "outputs": [],
   "source": [
    "from collections.abc import Iterable\n",
    "\n",
    "author_messages_dict={}\n",
    "\n",
    "for commit in push_event_commits:\n",
    "    push_commits=commit.get('payload').get('commits')\n",
    "    if push_commits is not None and isinstance(push_commits, Iterable):\n",
    "        for commit in push_commits:\n",
    "            author_name=commit.get('author').get('name')\n",
    "            message=commit.get('message')\n",
    "            if author_name is not None and author_name not in author_messages_dict and message is not None:\n",
    "                author_messages_dict[author_name]=[message]\n",
    "            else:\n",
    "                author_messages_dict[author_name].append(message)\n",
    "                "
   ]
  },
  {
   "cell_type": "code",
   "execution_count": 48,
   "metadata": {},
   "outputs": [
    {
     "name": "stdout",
     "output_type": "stream",
     "text": [
      "['dependabot[bot]', 'erfankashani', 'bors', 'Kevin Tan', 'Mykle', 'AlanTellezS', 'tyler.devtcn@gmail.com', 'himobi', 'Taylor Kraft', 'Benjamin Russell', 'Talha A', 'Viktor Plane', 'Danilo Margarido', 'DST-ftp-root', 'jekyllvn', 'tyru', 'Jueliany', 'SoftMonster', 'kt', 'Logan', 'KOLANICH', 'WayneMRP', '1K2a3m4i', 'RohanBhirangi', 'Priest502', 'dondontam', 'YvonneHou98', 'PowWow Admin', 'Cam Watson', 'edhoguntur', 'Nikita', 'HSKHTM', 'Menahem Ashurov', 'Jarek Potiuk', 'Tainoko', 'Zachary Jacobs', 'Sithara Jayachandran', 'seatacken', 'Blandine12', 'Nikhil Anand', 'Timothy Castiglia', 'Emirhan Kaplan', 'char0x602', 'mambax7', 'Adam', 'Joshua Lange', 'Luke', 'juliaslohman', 'Deployment Bot (from Travis CI)', 'gycn', 'Jiangbei Li', 'ChrisP19', 'Fisher Yu', 'Lily Zhang', 'javapark1', 'Nathan Seidle', 'SockPuppetry', 'anower00', 'asdfghy6', 'Adolfo Marinucci', 'awsm-bot', 'Bot', 'ttrigui', 'Christopher Degawa', 'its-pointless', 'Ehron Gwinn', 'Saket Narayan', 'CarlosCastillo10', 'johnson chidubem', 'Art Eschenlauer', 'Binyamin Z', 'donaldsouza', 'hedgespin', 'endymion1818', 'Sandeep Amarnath', 'SandeepAmarnath', 'Prashant Shrestha', 'wideyu', 'Christos Efstathiades', 'Egor Tensin', 'David Sandberg', 'daneshchacko', 'Atsushi Watanabe', 'boxmoji', 'Renovate Bot', 'zack', 'AdrianValenciaSantos', 'Gabriela Voll', 'Marc Ferland', 'rimblood', 'Jake Witcher', 'xiali', 'Cockpituous', 'Mark Chepel', 'zsxs2', 'Holly Rogers', 'Gil Carvalho', 'Emine', 'McSonk', 'Zhenya', 'Noah Emmet', 'Juliano Dorigão', '5john', 'nukooo', 'Site Autobuilder', 'n8wb', 'Alex Braun', 'Cory Lynch', 'Franck Nijhof', 'HomeAssistant Azure', 'pull[bot]', 'Jono', 'Patrik J. Braun', 'BenAlaa', 'jrdegreeff', 'mapcat', 'Tian Pan', 'Oscar Esteban', 'Benjamin James', 'Pooya Davoodi', 'Asif Ali Rizvan', 'Yousef Akbar', 'David Cohen', 'Steve Holmes', 'Rika', 'blensink192', 'Brokalys bot', 'MichaelRomero', 'Allison Chou', 'Kyle E. Mitchell', 'Michael Voříšek', 'olesgedz', 'wessilfie', 'Christian Tietz', 'sourceconnect-tests', '=', 'lonefintech', 'chosim-dev', 'MatthewTheGlutton', 'Augusto Martinez', 'jhonnySAN', 'Eduardo Aureliano', 'Pugabyte', 'Yang Zhang', 'Townsend Porcher', 'Keyi Zhang', 'Mike Ludkovski', 'jv80', 'klawir', 'RachidRezzik', 'Joel Chen', 'Robin Unger', 'Duy Thanh', '2ndClemens', 'Omer Faruk Gul', 'Peter Mitrano', 'heng.zhang', 'ANGELLOPARR', 'h5p9sl', 'aqi-moscun', 'parkerziegler', 'Charles Iliya Krempeaux', 'wigforss', 'phiDel Bak', 'JooChan', 'ㄗㄠˋ ㄑㄧˊ', 'David Wilemski', 'JulVoe', 'Chris Roat', 'Guangde Wang', 'gerbs66', 'Quinton Pryce', 'hwong0305', 'deathbybandaid', 'hunterko', '87591', 'jinghuijuan6', 'jinghuijuan4', 'Jas', 'ke0m', 'GitClock', 'hwx438865', 'Frederick DenBleyker', 'A-ee', 'Vanessa Sochat', 'mawork1', 'aaiden Nicolas Witten', 'mopp', 'RhXKGxbwQHmTREDU', 'hou1234', 'Ian White', 'nodemcu-custom-build', 'yossy222vrc', 'Michael Reilly', 'jinghuijuan', 'jinghuijuan10', 'jinghuijuan8', 'jinghuijuan5', 'Fatemeh Kiaie', 'Hugo Barrueta', 'Adam Arling', '474151949', 'houbinbin87591', 'jinghuijuan7', 'Qiong Zhou Huang', 'DawidJozwiak', 'tronjsdev', 'yangcaicai', 'raptor_MVK', 'Rommel Haynes', 'Rabia Alhaffar', 'ceorron', 'Eric Liu', 'Travis-CI', 'toppk', 'Cody Yu', 'emrahizci', 'Eric Crooks', 'deno-drash-docs-ci', 'Zayyed Mansoor', 'Colson Scott', 'Jesse Millar', 'JonoCode9374', 'Simon H Moore', 'Ying Huang', 'emanwern', 'zachgoll', 'James Harrison', 'Peter Eisentraut', 'Commitfest Bot', 'Pierre Hunault', 'Michael Dickens', 'Fred Wright', 'Metype', 'moezelahi', 'Enmotus-Dave-Cohen', 'sjmiller7', 'Andrey Castro', 'Raj Kadam', 'Felipe D. Santos', 'sunbysea', 'Dongbo Wang', 'hydra3333', 'Leonard Shen', 'MitchellMarkGeorge', 'Kathy Warne', 'qbert', 'AC De Leon', 'Timur Mishiev', 'snowmint', 'vantage', 'BAKAOLC', 'Dak Smyth', 'czhang2718', 'sesheta', 'Travis', 'despottt', 'LavamasterYT', 'Chelle Gentemann', 'WillHoll', 'will', 'trimstray', 'Steven A. Silva', 'Justin Mooney', 'li-xie', 'Darren Smith', 'yuki-snow1823', 'Ezequiel Alécio Ribeiro', 'DonneyF', 'BBiBoot', 'arkadyt', 'Daniel Hampikian', 'Marco Acierno', 'vijay', 'vijaymalla', 'ericmassara', 'dre', 'Dominik Wilkowski', 'giri', 'Mike Aleksiuk', 'A-312', 'Docker Library Bot', 'Esat', 'Mubaraq Wahab', 'Davis Junior', 'ohman-23', 'Quentin McGaw (desktop)', 'onedrawingperday', 'Matt Cavallo', 'John Leider', 'meghapsimatrix', '堀江仁貴', 'Maximb', 'rmcaves', 'Christopher Sannar', 'zqf', 'madzikdek', 'wafuwafu13', 'TagawaHirotaka', 'Michel Heily', 'sunete', 'Josh Bielick', 'Arne Roomann-Kurrik', 'Logan Perry-Din', 'george', 'Kailana Kahawaii', 'Peter Davison-Reiber', 'Murata Gulube', 'root', '12138xs', 'Ned Twigg', 'ensorcell', 'guangcheng139', 'Eqrly', 'Martin Siggel', 'Namo.Lu', 'Garrett Cullen', 'Tanner', 'prembg', 'Su lianggang', 'John Caron', 'luckydan61', 'Travis CI', 'Spencer Wood', 'mxnet-ci', 'hassen', 'Frotty', 'Brandon Lee', 'Damian Morgan', 'Ross Borchers', 'GitYatto', 'KWhiting', 'AsteroidTracker', 'Max Kuhn', 'Christian Urich', 'atiframlee', 'SRK HOST', 'OgarPlus', 'Chukwuemeka O Ike', 'jinghuijuan9', 'Rajab Natshah', 'samir2088', 'Niclas Olofsson', 'jinghuijuan11', 'unklebonehead', 'Weave Flux', 'Jennifer Huang', 'Antoine Comte', 'Jia Zhai', 'SakaSun', 'Fred Eisele', 'tuteng', 'Jerry Fan', 'huangdx0726', 'cckellogg', '冉小龙', 'Matteo Merli', 'lipenghui', 'Anonymitaet', 'Nathan Mills', 'Ali Ahmed', 'minebosstime', 'github username', 'Bangqi Xu', 'Samuel Austen', 'Michael Wiinberg Olesen', 'Michael W. Olesen', 'Zoom.Quiet', 'Zachary Spector', 'Dr. Steven Mielke', 'Cameron Dart', 'Cameron', 'Kevin Nowaczyk', 'devonzuegel', 'Bjoern Kerler', 'harlenlopez', 'taylor', 'Brian Gonzales', 'qcu87z', 'Pierre Lannoy', 'Ricardo Macedo', 'Edwin Lee', 'xam4lor', 'Alex', 'Bitnami Bot', 'Abe Winter', 'Darien', 'Melanie McGlynn', 'jenkins-x-bot', 'olos00', 'Albert', 'crispycat', 'acat122', 'Rafael Moreno', 'Benjamin Staneck', 'hao', 'Marc Fors', 'Andrew Capp', 'nnntest', 'Tim Kim', 'bearjung', 'Mark Martynov', 'Conor R', 'Jeff Lee', 'Inna Nikolenko', 'tinymark', 'Banks T', 'Emo2560', 'Diego Rico', 'TAC', 'synzen', 'shuoyan', 'jason chen', 'Sascha Wander', 'Victor Costa', 'bitbaybot', 'vincenira', 'Rory Little', 'AndresFDaza', 'sn2111', 'Ladinu Chandrasinghe', 'Robert Scott', 'oct21r', 'mestizoLopez', 'Artur Souza', 'andres.robles', 'Jeff Linahan', 'silan', 'Sam', 'ehuan2', 'kimsungjin', 'tjdwls3469', 'Mike Goren', 'Soljian / Sheaven', 'triener', 'wrkzdev', 'Southern Outpost', 'Joel', 'Vianney', 'fans', 'Thomas Wright', 'Collin Mitchell', 'Jonathan Toledo Orobia', 'Stepan Koltsov', 'Kyle Humphrey', 'mustafasacli', 'Sridhar Ratnakumar', 'MichaelZiHuang', 'ctf0', 'airnan', 'Rehan', 'flyshywen', 'Jimmy Emery', 'Klinsman Maia', 'skyblockz', 'Benjamin Cane', 'Vlad Dorozhinskiy', 'BrendanMcGaw', 'mistermochi', 'Benjamin Lehmann', 'Lisa Torrey', 'Americo Sierra', 'Treee', 'Anantha Krishnan', 'Vinh Le', 'thefentoncreeper', 'alcovap', 'Behnam Ebrahimi', 'p4vlowVl4d', 'Igor Houwat', 'Junwon', 'Dor Gamliel', 'TigerMuskellunge', 'Anthony Gedeon', 'Lateef Ojulari', 'Lee Bussy', 'github-actions[bot]', 'Seth Anderson', 'Nicholas', 'Rae', 'FieryEvent', 'Ri Xin Yang', 'Ben Rousch', 'GoldenHarp', 'id405', 'p進大好きbot', 'eileen', 'Dale Hamel', 'Mounaiban', 'Nikita Patlay', 'RileyJCB', 'Aldrin', 'Ralf Barkow', 'rstad', 'Justin', 'Eric Chen', 'John Romkey', 'Ross Chapman', 'Stefan Eiermann', 'paulgrote', 'benwubenwu', 'Vivian L', 'Bao', 'Bao Hoang', 'brendan', 'blau0123', 'agwlvssainokuni', 'Wavebrother', 'Hanna Alemu', 'Anurag Kumar', 'Grant', 'Victor Andres Hernandez P', 'alebelcor', 'yuriy8625', 'kk-1988_vmware', 'itsangela', 'Mike Brady', 'Ellen Kenyon', 'Alex-Au1', 'Roger Chapman', 'David Qiu', 'sMash0', 'Burak Ozarslan', 'Darnell', 'Me Ngan', 'pentarctagon', 'Marcel Marceau', 'Weverson Nascimento', 'aliefamzari', 'torrent benoit', 'SeanRen', 'god', 'gnlenfn', 'CJXDBot', 'cjxd-bot-test', 'Wenpo Pao', 'Michell Brito', 'glitchhhhy', 'Safia Abdalla', 'anthonyjchriste', 'Angelica \"Angie\" Quirarte', 'Priz', 'Aishwarya Pawar', 'Noah Glaser', 'bozhidar.slavov', 'Gavin', 'harshit.gupta1', 'eschul07', 'joshith', 'Edmund Miller', 'Gordon Hsu', 'visn0', 'ejir', 'Sinan', 'Mohamed Mohamed', 'anyabot', 'Pablo Bonilla', 'qiujiahong', 'AlphaCentaury', 'kartelant', 'Eric Winger', 'Ryan P. Brewster', 'Eric Marty', 'shinchiro', 'SmellyModder', 'David Barri', 'Sandeep Sagar', 'Perry Miller', 'Fazlur Rahman', 'Elbert Alias', 'thomasmarsh16', 'Kojima Seiichi', 'Gilson Oliveira', 'Vaclav Svejcar', 'Richard Diz', 'devops-intellipaat', 'Yusuf', 'geraldotakashikodaira', 'Thomas Cort', 'liruqi', 'Thomas Rampelberg', 'grampelberg', 'Derrick Burns', 'Charles Pretzer', 'aprilahijriyan', 'Kin Lane', 'Marcus Wilson', 'attatuirk', 'skullbe', 'Jordle', 'happysimon123', 'l1oret', 'Armok628', 'Brian Larsen', 'Kari Lockwood-Oliver', 'Abdelrahman Bakry', 'keum', 'sambeebe', 'Geoffrey Lovelace', 'Amirhossein', 'dawdads', 'Balasubramanian Narasimhan', 'Adam Schaefers', 'yaoye-docker', 'bkinney91', 'Daniel Hoffmann', 'Michael Phantom', 'FanzOfLenaZavaroni', 'Vaibhav Kamra', 'Jason Leach', 'Ethan Lowman', 'Rodrigo Brito', 'Guangning', 'zuquan song', 'Sijie Guo', 'Aida', 'Alex Browne', 'pillipsim', 'chuan12', 'Firas Khalil Khana', 'Hillgner Lima', 'Kushal Seetharam', 'Sanjeev Mehrotra', 'kienchen', 'bartkoz', 'Luis Alvarez', 'Turnip1234', 'Rajko Zschiegner', 'Alice Wercker', 'Le Heng Chieu', 'Dream-LC', 'Stephen', 'tiago archanjo', 'e513131', 'latent-info', 'wandererfan', 'vocx-fc', 'jiwonnam', 'Tianon Gravi', 'yosifkit', 'Patlay Nikita', 'TylerSeiford', 'Vivian', 'binishmaharjan', 'Binish Maharjan', 'Haseeb Majid', 'BuildTools', 'Suryansh', 'Mumeen Idris', 'Markus Schirp', 'vlad', 'Steven Saunders', 'Tobias Briones', 'Ken Dickey', 'spacedove', 'Nora_Wang', 'ChrisH', 'lexx', 'Thomas Andolf', 'alik604', 'Emad Alharbi', 'devanshkaria88', 'GihanAyesh', 'Gihan Ayeshmantha', 'yasiru', 'yasiruRathnayaka97', 'Thamidu Muthukumarana', 'Olle Jonsson', 'mklewandowski', 'zrrrzzt', 'Nick Holke', 'WENGE9', 'dGrammatiko', 'Dimitrios Grammatikogiannis', 'Estefano Salazar', 'Tomer Kimia', 'Mostafa Ashraf', 'Jonathan Torres', 'Sorawee Porncharoenwase', 'YAMASAKI Masahide', 'harlen lopez', 'Trenton Arndt', 'erobertsdev', 'Anthony Sottile', 'abalabahaha', 'LJNeon', 'Black.Hacker', 'Rob Levin', 'Ricardo Parra molina', 'Amber Keahey', 'EngineerBeans', 'yeet648', 'Ahmed Maazouzi', 'snyk-bot', 'czhu2018', 'gerritcodereview-prober@gerritcodereview-prober.iam.gserviceaccount.com', 'Daniel Falbo', 'gamesbykevin', 'jerry3904', 'netdatabot', 'Brandon Cheng', 'Alexandre-T', 'Yan Peng', 'vertabreak', 'Sugu Sougoumarane', 'Madeline Prins', 'vvr-rao', 'Tony Papadimitriou', 'Nick', '3141592654', 'Chris', 'emilte', 'Lukas Langrock', 'codefooo', 'tommy605', 'jaydonhashimoto', 'peter', 'jnm2', 'Joseph Musser', 'Sam Harwell', 'zhtengw', 'Caio Augusto Barretta', 'Isaiah Nixon', 'Dheeraj Kumar Kanukuntla', 'David Basarab', 'houbinbin2', 'Flat-Pixels', 'Andrei Kashcha', 'Coolghostgamer05', 'rajashree', 'Prachi Damle', 'Denise', 'Jeff Pickell', 'David', 'hwxjinghuijuan', 'Dante19980224', 'Matthew Phelps', 'browneo', 'Steven Burns', 'Daniel Egan', 'SousanCCloud', 'bchoi12', 'Nathan', 'MrSloth13', 'Bennie Chen', 'tacotaco2', 'wiki', 'Michael Kellsy', 'SYOfficial', 'Parker Ziegler', 'eodccloud', 'goyanx', 'DanX27', 'Adam Borowski', 'Scott Robertson', 'Rubber-Duckie', 'supertester00', 'Alfred Mawutor', 'mengyuan29', 'Eugenio Zuccarelli', 'Martin Papa', 'Martin', 'anniepineda', 'Jerome Joof', 'geos4s', 'EtivenKodi', 'dcd', 'Jim Searle', 'stelar7', 'Johndeer123', 'Bunny67', 'galaxywormhole', 'Universebenzene', 'supershell2019', 'llEsAuER', 'ramenfud', 'Ping-Jou Chiang', 'supermobiteam2', 'Emmanuel Ogunjirin', 'thijs852', 'llopez0814', 'Andrew Reitano', 'Hironsan', 'Michael Perel', 'alexey.shkarupin', 'morrah', 'gsandhu916', 'scriptzteam', 'Alaa Moussawi', 'hb', 'Guoxp', 'web', 'mtolson', 'nobody', 'thomasyu888', 'bluerob45', 'AlloyTeam', 'wilsson', 'Juan Pablo', 'sunbinbin1991', 'Ren Li', 'DESKTOP-7J1OI89\\\\a', 'John Napiorkowski', 'cgentemann', 'Jorge Naranjo', 'kodiccloud100', 'jdebacker', 'Jim Wu', 'Sergey Voytov', 'Automatron', 'Snoopy Crime Cop', 'MikMikMr', 'Helmasaur', 'Xander Flood', 'xanderflood', 'greg linton', 'GoSeungUks', 'Ashwin Nanjappa', 'Homo Efficio', 'ytsqkl', 'Enosys Security Operations Team', 'James Pace', 'GreatGitWall', 'Matt', 'sangsucki', 'Jonathan Sterling', 'keptn', 'disksing', 'Aaron Roller', 'adon0420023', 'Trivikram Kamat', 'dboyd42', 'Rong Cui', '我夏了夏天', 'Istiyaq123', 'Murata G', 'wfz8023', 'declarative-design-9472', 'Lektor Bot', 'Dimbreath-Server', 'Chetan Srinidhi', 'Satoru Kamada', 'NotSorru', 'Cole Hollant', 'Ali Rizvi', 'AveTrueToCaesar', 'motikan2010-bot', 'maloymanna', 'dotnet-maestro[bot]', 'anouarbensaad', 'Fernando Medina Corey', 'G. S. McNamara, M.S', 'hi-the-swan', 'Jan Segre', 'Alexander Stepanov', 'Xiao Wang', 'jack', 'benobi', 'NewsTools', 'Ramze jarad', 'bunchley', 'Roger Oliver Clark', 'EricDalrymple91', 'veganinthestreets', 'direwolf-github', 'Chris Casey', 'ayyghost', 'nlog2n2', 'gfw-breaker', 'Rachid Rezzik', 'AboveTheChemist', 'Jay', 'Marc Davies', 'Francis Bulus', 'Bas Meijer', 'gfduszynski', 'xujiabin', 'Adetunji', 'EricFromCanada', 'BrewTestBot', 'Nick Golder', 'Solo-io Bot', '404NetworkError', 'adash333', 'sudoix', 'Jarred Parrett', 'juanbecerra0', 'Jeremy Lucas', 'Michael Babienco', 'Jarrod Millman', 'Jean-Sim', 'Daryn Sharp', 'Jason Darrell Lowe', 'Brandon Li', 'Colin McCabe', 'Sanford Ryza', 'Jing Zhao', 'Alejandro Abdelnur', 'Haohui Mai', 'Chris Nauroth', 'Tsz-wo Sze', 'Mohammad S Anwar', 'Abdurrahman Sefer', '道化師', 'Anthony AVOLA', 'Alex WalterDev2', 'Hyssopi', 'scoffin-dev', 'Somfic', 'Nathan Eck', 'Yen Ju Lai', 'tjdlsgn98', 'mateo4martinez', 'andredb90', 'Julian Rosse', 'Pete Cornish', 'Paul', 'Mehmet Mert Yildiran', 'Piotr Paradziński', 'Charlie J', 'Deep', 'Steven Hobson-Campbell', 'Jian', 'patniko', 'Les Vogel', 'neilprado', 'Michael Belousov', 'zeit-github-tester[bot]', 'dependabot-preview[bot]', 'kendell', 'mransan', 'Jian Wu', 'hax-mov', 'Robert Chou', 'PowershellScripts', 'sgoldenlab', 'Robert Russell', 'love4say', 'Aaron Turon', 'HappyTreeBeard', 'Rich', 'muppet9010', 'Jennie R', 'jz0001', 'David98vc', 'catamphetamine', 'acsone-git-bot', 'jacquiemcb', 'Mary', 'outage-scrapers', 'Chris Mikstas', 'Neil Mudjer', 'Junior Rantila', 'mauronofrio matarrese', 'drmonro', 'LXing', 'Michael Skowronski', 'xjx3316', 'Alfredo Castillo', 'Mezumona Kosaki', 'Raul Ovalle', 'Ryan Burn', 'IOhacker', 'Johan Berg', 'Ido Ben-Hur', 'Benito Perdomo Vergara', 'john gravois', 'Lauren Boyd', 'Thomas LaFreniere', 'mohsenataei', 'Pakeji', 'bplok20010', 'Jerry014a', 'Ben Saufley', 'MehdiL', 'Camilo Soto Montoya', 'simerplaha', 'LuisFrag', 'wmay', 'Thomas de Zeeuw', 'Dmitrii Goriunov', 'Tomas Janousek', 'elangovan sivanandam', 'simsland', 'Lucas', 'SeungYeop Han', 'James Cathcart', 'd3j331', 'Tsujioka Taichi', 'Danver98', 'y-yagi', 'Dustin Spicuzza', 'Michael Weedman', 'ChristianDunn', 'wadegguerin', 'Tetsu Yamazaki', 'Philip Lassen', 'SharkFin', 'Jairo Llopis', 'Yoshi Tashiro', 'Nicolas Lempereur', 'Pete Higgins', 'Robert Long', 'CodyMathis123', 'ardnew', 'Agustin Mendez', 'hououinkami', 'Pierre Zemb', 'belinda-wong', 'Masahiro Sakamoto', 'Reugn', 'Sunkwan Kwon', 'congbo', 'ntysdd', 'Mariia Pecherytsia', 'Val', 'ejelome', 'Bradley Guthrie', 'Francesco Litrico', 'Brendan Lensink', 'Woodstock Recordstore', 'aseventhimpossiblething', 'CreamyGlue', 'Weiyishijie', 'zebingl@fb.com', 'Test Author', 'quantum9Innovation', 'Bamboo CI', 'damienliccia', 'Jack Howard', 'Darrell', 'Jan Gruenwaldt', 'unknown', 'Adrian Ancona Novelo', 'Lorenzo Mangione', 'sarkiroka', 'Man Long Wong', 'DreamLi', 'Jorge Pinna Puissant', 'Goffin Simon', 'Duy', 'Andrew Asplund', 'wmayer', 'Grey Christoforo', 'PushKK', 'Rajendra Pardeshi', 'Zheng, Lei', 'WandererFan', 'Haokang Den', 'Weicheng Xue', 'dsl', 'anonoymousm', 'Brandon', 'akaban01', 'Aaron Jackson', 'jacobatwork', 'Marco Castelluccio', 'dhon2407-pc', 'wingtorres', 'TumsaUmata', 'Brandon Minnick', 'cgschu1tz', 'Jack Zhang', 'Angel Fernando Quiroz Campos', 'Gilberto Placidon', 'Laurent Mignon (ACSONE)', 'Henrik Bechmann', 'Ethan Ruszanowski', 'Colin', 'microcai', 'hugocas', 'yeG10', 'Deployment Bot', 'dan0x09', 'Peter Xu', 'Jeff Kowalski', 'zhangwenjie-tina', 'Erik Mackdanz', 'Repository mirror & CI', 'adityamaddala', 'Gerardo Salazar', 'omegga', 'Pascal T', 'julia', 'PRIZ ;]', 'user Ryutta', 'casey langen', 'Kai Raphahn', 'Vikram Babu', 'The Tester', 'jofsky', 'Kevin Wang', '365462129@qq.com', 'MilkyVishra', 'psandra1997', 'Ricardo Morin', 'ghrip', 'David Vo', 'Stephen Warneford-Bygrave', 'macmule', 'Darren Wallace', 'Richard Mallion', 'Neil Martin', 'Eniola Oyewole', 'Yehonatan Hen', 'Guy Cohen', 'Marcel Goldschen-Ohm', 'dominicskinner', 'Michael Szul', 'randomjamart', 'GitHub', 'James Gallagher', 'DentonWarnock', 'Igor Dvorkin', 'Kirill Shcherbina', 'Bernhard M. Wiedemann', 'leo60228', 'hhao1992', 'Robert West', 'Jeff Pooley', 'Michael Zuniga', 'OPSTestProduction', 'Xiangwei Cai', 'Your Name', 'Mazdak Farrokhzad', 'Charles Lew', 'Zac Medico', 'Leonardo Espinoza', 'Robin Bisho', 'schwarze', 'jsg', 'Kai Hwang', 'Ming', 'johan gace', 'Albert.CH.Shih', 'Thomas Huybrechts', 'china0532', 'manuelespinosa', 'haipe', 'Jack Murphy', 'David Ladowitz', 'Unknown', 'Jeremy David Giesbrecht', 'khandgp1', 'gabesharpton', 'Yaiyan', 'Brandon Craig', 'geekwise-korey-nichols', 'yfhuang', 'Nathan Getty', 'hww1996', 'GitHub Action', 'Kyle Bjordahl', 'Ben Chuanlong Du', 'SHRUTIKALOKHANDE', 'sthen', 'wruiz', 'Mohsan Khan', 'Alejandro Damian Lozano', '“XurongChi”', 'Antimeuh2433', 'e99999', 'purerosefallen', 'Mohsin Niazi', 'Riley Shaw', 'zhagyilig', 'Gary Mann', 'Matheus Ferraz', 'Volodymyr Shcherbyna', 'confusdcodr', 'Gregory O', 'Loren Gordon', 'Morten Kals', 'fxnoob', 'RutuM', 'Sebastián Aberastury', 'Prabesh', 'kaiorosa1', 'Ming Tang', 'ericyueyi', 'Joshua Coales', 'Ranadeep Mukherjee', 'JE Low', 'Paul-Davis', 'Huahai Yang', 'Rebecca Wallander', 'iwilliamson', 'David Haywood', 'ajrhacker', 'Ian', 'Alexander Solbrig', 'xuestrange', 'tommaso-sebastianelli', 'srinidhisrinivas', 'angiechangpagne@gmail.com', 'jobhimain', 'Loreina Chew', 'RohitGarudadri', 'Andres Andrade', 'Cong Fandi', 'tduplantis83', 'Evan Bacon', 'Yong Zhang', 'ColeEwert', 'Marcus Richard', 'sqeven', 'Randy LeVeque', 'JIAHONG LI', 'zydgbbs', 'kmorgan8588', 'ivanisinvesting', 'Hannes Hauptmann', 'hhl', 'MANDARIN', 'dmontigny', 'hankcs', 'lihkg', 'jaezuchowski', 'Jess Zuchowski', 'William Lake', 'Chelsey McKinney', 'Cameron Shinn', 'cameronshinn', 'Fernando Ferreira', 'EC2 Default User', 'Alisonhardison', 'Dream', 'closedsum', 'tumhopaasmere', 'Joshua', 'Andrew Dinh', 'Bhushan S Vasisht', 'ssaavvaa', 'Web-Media', 'tailaiw', 'kunfayakun', 'pk', 'Docker', 'Pierre Theo Klein', 'Kyle Rubenok', 'Long Nguyen', 'ZhongGuiyong', 'Jashele T', 'Augusto Calado Bueno', 'Luiz Irber', 'Stephen Ramsay', 'AestheticSenpai', 'turleypol', 'Tanuj Mittal', 'Shokupanman', 'Nate Roundy', 'Roundy', 'jnjagod', 'Codus1127', 'Cody Young', 'Sam Dale', 'Haydn Trigg', 'Shresth09', 'Chad Vernon', 'Brittney', 'TurboTobiasDK', 'whitfield', 'ClumsyAdmin', 'James Brouillet', 'Jonathan Wong', 'linimon', 'Rachel Johnson', 'Spiedie', 'Steve Neale', 'iphshin', 'Maurício Witter', 'Manny Cortez Studios', 'Winston Weathers', 'hasanabs', 'madhura184', 'Nando Vieira', 'Jared Johnson', 'Epic', 'Andrew Kannan', 'Wilba', 'Huawen Yu', 'aaveg', 'Abhishek Vijayakumar', 'Scott Buchanan', 'Benito Perdomo', 'xndcn', 'James Moore', 'lm585', 'Ali', 'Devin Jolly (Lightling)', 'wz5mz', 'byron-linode', 'Michael Townsend', 'Linus Waddell', 'fzqk', 'Sanganu', 'zBash162', 'DenisWASD', 'skennicutt', 'M5X', 'OnshowOnline', 'Rothanak So', 'Kishore Reddy', 'Robert Guichard', 'Ben McCormick', 'Tom Powers', 'jacob1', 'Caio Davi', 'Brianna McCray', 'Jin0331', 'clr2of8', 'Nicolas HULEUX', 'Yoshi Automation Bot', 'a6k5WI', 'Cole Botkens', 'zepumph', 'tony', 'choirulihwan', 'Jose Garcia', 'Ling Thio', 'Anthony Holder', 'bczhc', 'tthings', 'XHQ', 'LuisLoureiro', 'Ibrahim BinAlshikh', 'Bruno S Bertolani', 'bbertolani', 'mark m', 'William Woodruff', 'Ryo Ota', 'benjamin-t-wilson', 'drakata', 'Troy', 'iso88591', 'ManlyMarco', 'Mostapha', 'xombiehamster', 'Mahasri Kalavala', 'choo', 'fate0', 'David Sanders', 'Peter Ferrie', 'locke-lunarg', 'diharaw', 'Ernesto Crespo', 'C5Hackr', 'Gabriel Baca', 'Manny', 'Leo Zhang', 'Marco A Cayetano', 'Christian Findlay', 'canihavesomecoffee', 'Bloodreina', 'David Comboni', 'Bitnami Containers', 'Randall', 'ainstushar', 'stolen data', 'suschizu', 'James Lentini', 'KorobkaVadim', 'Alexander Lukyanchikov', 'ABruihler', 'Luca Bomben', 'Birger J. Nordølum', 'Colin Curtain', '4342315yc', 'Scott Redig', 'Toqa', 'Eloy Durán', 'Propeus', 'Sebastian Kalicki', 'fuadmakarim', 'xqrzd', 'Mohamed Deerow', 'Wolfgang Becker', 'Bruno', 'allinoneapps', 'Fabio Migliorini', 'ericpena', 'yano.nono', 'CheeseInTheDark', \"Jinhang's workout chart\", 'Daniel', 'b946c5a0bf547c89', 'Laksh Bhambhani', 'Shu Hu', 'Steven Andrew Wallace', 'Ben Godfrey', 'Aaron', 'bnebeker', 'Alan Turing', 'Yavar Taheri Yeganeh', 'Li Minghui', 'weishian-wang', 'Abdallah Chidjou', 'initiald0824', 'nikhil', 'lin', 'sLoP0101', 'Jake', 'Giancarlos Castillo', 'Juan Ku', 'AJInddev', 'Geoffrey van Wyk', 'Benjamin Spain', 'uttie', 'Joe Hinkley', 'l33zy', 'Greg Fodor', 'Jayson Harshbarger', 'Lucy Hao', 'Toshiki Tsuboi', 'Thomas Lane', 'Michael Catanzariti', 'mhkeller', 'jdizz', 'Enzo Gabriel', 'FajsiEx', 'Saleem Abdulrasool', 'Daishan', 'mlevatich', 'Talon Poole', 'Jimmy Wong', '陈嘉涵', 'Aleksandr Statciuk', 'Bryant Omoregie', 'Michael B', 'Andres Felipe Torres', 'Krzysiek', 'Josh Cummings', 'Joe Loughry', 'Pier Luigi Fiorini', 'Chris Dart', 'Vishal Singh', 'Melissa3199', 'Kye Okabe', 'Gabriel Dudlicek', 'Matthew Peveler', 'Nate Prewitt', 'Mickaël Schoentgen', 'Adit P Patel', 'jtliames2013', 'islaterm', 'l021021', 'Adam Mohammed', 'Alistair Hey', 'Michael Shen', 'Archive Bot', 'Declan Reidy', 'Michael Alexander', 'Cole Summers', 'Vineet Sinha', 'EveningShade', 'Dipankar Dutta', 'Devin Fitzsimons', 'IshaanBansal', 'Crieve-Sargeras', 'Dawson', 'JumHorn', 'Takuya Takeuchi', 'Omar Dario', 'Yochyo', 'Robert Impellitteri', 'VoiceSC', 'Rohan Morris', 'Walter Torres', 'Jesus Eduardo Murrieta Rosas', 'Khalid Rahman', 'Elijah Christensen', 'Diversity Timestamping Service', 'Gitta Timestamping Service', 'Alecfut07', 'lianghu83', 'Apoorv', 'Mathi Gatti', 'devmeist3r', 'Will Dickson', 'xxu02', 'Wouter (W.L.M.) Ligtenberg', 'Evan Sosenko', 'heroku-bot', 'huanminwu', 'Michelle Handipranata', 'steamgjk', 'doctor4t', 'umgi', 'Hunter Pugh', 'folaulau', 'traderres', 'Paul Brady', 'Hugo', 'Iván Hernández', 'alyssa_7', 'matthew46', 'nerdlabs001', 'João Oliveira', 'David Salazar', 'Daniel Rejon', 'Rob Fowler', 'qwopweio15', 'smf', 'nedyudombat', 'deerlord', 'Lars Ericson', 'cenos2', 'howardn23', 'rene', 'yuri', 'jbeich', 'jhale', 'pkubaj', 'adridg', 'Tim Creech', 'Cms Build', 'Yevgeniy Miretskiy', 'ropenscibot', 'Evil Artist', 'Edward Silverton', 'Naw Singh', 'Matt Beachey', 'Khalil', 'Michael Galperin', 'ErrLei', 'Koichi Shiraishi', 'Shougo', 'Joshua Poirier', 'wgfxer', 'Isabella Aguilera', 'the crafty coder', 'Mark Crossen', 'Bhushan Vasisht', 'RichardPilarte', 'Thomas K', 'Miles P Livermont', 'Kamen Stanev', 'jonathansadowski', 'deepscanbot', 'Agencia Web Bogotá', 'Ike Otu', 'ZsZs', 'Rahul Ravikumar', 'duncan ralph', 'Gavin M. Roy', 'milenaonmaui', 'GitHub Actions', 'v-acoder', 'Kevin Liang - Surface', 'Sibi Narayanan', 'Jeremy Schlatter', 'Yoshitaka Terazawa', 'May Roussel', 'liesauer', 'Dean Rexines', 'somenewsforyou', 'Jeremy Philipson', 'Harry Seong', 'Reynaldo Esparza', 'matosama', 'Notary Depot', 'Jaz Singh', 'nukewatcher', 'Fumiya Sakai', 'Paul home desktop', 'Andres Paz', 'Jonathan Moore', 'xianjimli', 'Irfan Baqui', 'Snow Wang', 'Tobias Speicher', 'hakan turğay', 'ericberman', 'xiongbingji', 'Eungyu Park', 'Hubert Maraszek', 'Nicolas Botello', 'Christopher Dembia', 'Ashley Hughes', 'Jeremy Moore', 'Lyrana Hughes', 'Sharma', 'Tony Arcieri', 'Tony Arcieri (iqlusion)', 'nist-injector-bot', 'Suliman Farzat', 'Jose24San', 'Jose Sanchez', 'mediaRRrepo', 'HAEmergencyRoomWaitTimeScraper', 'DataBC', 'nachoapps', 'tmaul', 'tryp031', \"Paul O'Shea\", 'Nintendroid1', 'garudamalang@gmail.com', 'Alanfxx', 'Sergey at ssb', 'meissadia', 'Wyatt Pearsall', 'Caleb Roseland', 'edoapra', 'Andrew Lovett-Barron', 'auto commit', 'orange451', 'ZZ12138-zjw', 'Farhan Tanvir', 'Andrew Zaruba', 'Andreas Möller', 'withparadox2', 'cgCodeLife', 'jton307', 'George Liu', 'Mike Lindner', 'leedee1988', 'Scott Larson', 'Jeff Schomay', 'Ross Hill', 'dystroyer49ers', 'gahgsp', 'Michael Nathan', 'Przemek', 'slovohrista', 'Andrea Carraro', 'langwenda', 'Rohit Garudadri', 'SuHwanLeee', 'martindholmes', 'Qidi Liu', 'sangchi', 'Lyndon Shi', 'Brian Lai', 'Claire Walzer', 'rtrouton', 'anmaree.osmond@gmail.com', 'JWulf7', 'anggi1234', 'Prahar Patel', 'Ryan Johnson', 'Cassandra Bailey', 'Koushik Dutta', 'Mark Entingh', 'Rick Neff', 'mpl', 'Ludovic Fernandez', 'Manuel Zapf', 'Damien Duportal', 'Kenneth Peiruza', 'Dmitry Sharshakov', 'der-domi', 'Tiago Boeing', 'Fernandez Ludovic', 'Saeid Amiri', 'Дмитрий', '“ahtwq”', 'RajvirSingh12', 'Arthur Lisek-Koper', 'awy2020', 'cloudhong-lic', 'Andres', 'jimbob666', 'Bret Comnes', 'Luiz Gustavo', 'Jeff Rafter', 'neithanmo', 'SDGGiesbrecht', 'gioryanreyes', 'nulano', 'play.js', 'Joe Garcia', 'GAierken', 'Peter Bergström', 'deidra', 'Vemahk', 'tonysrus', 'Bill White', 'hangilc', 'Joe Duffy', 'Tim Harper', 'hrsh38', 'Harsh Patel', 'Hector Ricardo Mendez Sordia', 'Calvin Weng', 'zhouqiang', 'Stephen McIntosh', 'Sahar Hagbi', 'Daniel Standish', 'Shanmuganathan', 'Alexandre Gigliotti', 'jyang81', 'zaidaldossary30', 'Nathan Alden, Sr', 'kleberbaum', 'Micha Ober', 'Yuki Okushi', 'Krishna Veera Reddy', 'hehaowen00', 'clairedavies', 'Bharathwaj Sankara', 'Na Hyung Choi', 'Jarred Parr', 'Tyler Lane', 'CrazyJ36', 'Mihai Codoban', 'haitdhn', 'josephrmoore', 'akkapakasaikiran', 'zackees', 'Eileen Paris', 'Michael William Le Nguyen', 'HermersonDev', 'sandychad', 'Bob Carr', 'samedelstein', 'esta-rossa', 'Roberto Romero', 'Haibo Chen', 'ravgeetdhillon', 'pu', 'Loren Cipriano', 'pownkel', 'Maxim Laikine', 'Harshith0307', 'Tegon McCloud', 'Azure pipeline', 'naagin', 'Pavel Kostyuchenko', 't1una', 'resthiana12', 'mattdeitke', 'ka9cql', 'Robert Best', 'Kentaro Fukuchi', 'mbest32', 'Cameron Samak', 'Brent Simmons', 'Ishan Narula', 'Hieperp', 'Sahrun', 'E DeGroot', 'Felix Gabler', 'hvistro', 'ryanmbechtel', 'ahoerr2', 'Obed-Ababio', 'software.contreras@gmail.com', 'milek7', 'sso66', 'sapeled3', 'Sapele Moses', 'mablebable', 'Macbook', 'Feng Tian', 'bpremkumar', 'Andrew Abosh', 'charlotte', 'rahultewariberkeley', 'Gabriel Chen', 'CircleCI e2e rolling update', 'Darren Embry', 'Reini Urban', 'S Joel Franklin', \"I'm Whedon\", 'deb', 'hokage22', 'Leonardo Faria', 'Asnxthaony', 'zeptodoctor', 'Poncho', 'Eric Harris-Braun', 'domedagenj', 'Ken Kundert', 'fernandohernandezpaz', 'Knut Ahlers', 'Berend de Boer', 'Eugene Koontz', 'Nick Mitchell', 'JasonZhou404', 'Xiangquan Xiao', 'panjiacheng', 'wfgsy101', 'sjiang2018', 'michael4338', 'michaelfdickey', 'DevTools Bot', 'Tyler Thome', 'William Buck', 'Birgerev', 'Diogo Ribeiro', 'jerome-wilson-developer', 'GoSeungUk', 'albertgoncalves', 'Sumaira Afzal', 'GitHub Actions Bot', 'Sean DuBois', 'chehefen', 'Daniel Menchaca Luna', 'Max Isom', 'ww', 'John Hollowell', 'Cal Stephens', 'TheLimeGlass', 'Nicolas A. Botello Jr', 'benleelewis', 'dtr', 'Sonya McCree', 'Ola Hallengren', 'SnackKing', 'Shira Maximov', 'xixuecao', 'vAporInside', 'BlackTecno', 'Minsu Han', 'John Schumacher', 'encgoo', 'Abd Asis', 'Nathan Thimothe', 'tri angga utama', 'n4Nax', 'limin0801', 'DsTyM', 'Genevieve Warren', 'Robin Giese', 'Andre Masella', 'Truong Nguyen`', 'froehlichA', 'Amirali Sharifian', 'German', 'Marcos Minond', 'UdjinM6', 'Charles E. Thornton', 'BEugeneSmith', 'Chmouel Boudjnah', 'Demarius Edwards', 'Jenkins Toucan Toco', 'Austin Gil', 'Brayden Marshall', 'Logan Ralston', 'npm gh-pages', 'michael sandoval', 'Stephan Risi', 'superj80820', 'Peiling Ding', 'nprindle', 'getgads', 'Charles Provencher', 'Spencer Dent', 'Jonathan Boiser', 't9md', 'Erik Alfvin', 'vade', 'simiyen', 'SatusNovandi', 'jellyfish12jellyfish', 'Joel Parker Henderson', 'tylerthome', 'Soup-de-Loop', 'qronix', 'mokumus', 'shadowgritz', 'ripamf2991', 'Nicolas \"Pixel\" Noble', 'Tiffani', 'Tiffani Elmore', 'Vish Potnis', 'daniel-farkas-dev', 'Burgess Chang', 'ChordWiz@swc_20180076', 'Hasan Unlu', 'tao.lu', 'mhandipranata', 'Kevin Deng', 'Sanyam Kapoor', 'Fitor Bogi Irawan', 'eGust', 'Matthew Mingde Zeng', 'Johan', 'slskopytko', 'kelypso', 'LyghtningWither', 'andrew', 'guadguadt', 'Li Yin', 'Håvar Henriksen', 'otiny', 'mbatoul', 'serik1987', 'Scott Matsuda', 'Valerio Proietti', 'Rheinard Korf', 'Aryan J', 'Dustin Noyes', 'Praveen Gupta', 'elorzafe', 'Carlos Cornejo', 'Xackery Xtal', 'Alex Castells', 'balace ballack', 'Dilip Sundarraj', 'Matteo Giaccone', 'q--', 'Paul Phan', 'Arnaud Ligny', 'Hendrik Söbbing', 'Ali Aghaie', 'Abhinav', 'Websale', '汪心禾', 'みかんのめがね', 'noahfranco', 'Bruno Barcarol Guimarães', 'bulexu', 'Devin Halladay', 'Lee Bardon', 'Mircea (Mark) Halmagiu', 'thelamer', 'Antony Messerli', 'LaughingBudda', 'underunderstood', 'LesLiu94', 'Hazem', 'osrsbox', 'Menny Even Danan', 'Gavin Howard', 'Ocean-ey', 'laurent', 'sabarish.sasidharan', 'davidbyoung', 'Mirko Brombin', 'Damien Elmes', 'Andrew Leverette', 'numairmansur', 'bot', 'Mahmudul Hoque', 'ItsDeltin', 'RODNEY CURL', 'Hampus', 'Zack Johnson', 'terrypacker', 'Alan Field', 'Pai, Darshan S', 'Rietty', 'Kevin Li', 'ymatuhin', 'David Cornelis Groothuizen Dijkema', 'Montana Mendy', 'Rick Cogley', 'phorton1', 'Crista Lopes', 'jerryfishzz', 'Martin Drab', 'GitHub Action Bot', 'Markus Heidt', 'Adrien Tateno', 'Brandon Galletta', 'Ove', 'suhuiAdmin', 'Ofek Lev', 'kosukesaigusa', 'Shizcow', 'Gábor Csárdi', 'Hadley Wickham', 'Jennifer (Jenny) Bryan', 'Mikkel Meyer Andersen', 'Jim Hester', 'ftc9881', 'FreedomFries37', 'Sungwoo Park', 'TechnoStudy', 'Daniel Bennett', 'Eiji Akagi', 'Duncan McGreggor', 'AliKhyar', 'Vashishtha Jogi', 'gun1x', 'Alan Nguyen', 'gforney', 'Sarah Weaver', 'GSantos23', 'Davi Silva', 'Bowen Zhang', 'Jan-Markus Langer', 'JavierCollipal', 'Aaron Clayton', 'Sarah', 'Thomas H Bahng', 'Holiday Tang', 'William Whitworth', 'dancoe77', 'm6ram', 'lupantech', 'Michael BAILLY', 'Frédéric MARTIN', 'Cubity', 'Evan Coulson', 'Nicolas Noble', 'Riccardo Calligaro', 'Rohan Murthy', 'Mark Kolich', 'Andrell Bower', 'Emmanuel Bengio', 'Babatunde Adelabu', 'Douglas Gorand', 'beau1004', 'Ian ORourke', 'Anthony Rossi', 'Ayoub Zayati', 'Tonus1', 'Jerome Haltom', 'eoli3n', '石头', 'Seongjun Yun', 'THGABS', 'srg74', 'lookwendyican', 'Abid Khalil', 'lizlove', 'zairazu', 'Jonnyy', 'qui', 'Tom McDonald', 'angelruiz', 'Darren Fu', 'Dr2n', 'Perdyx', 'Christian Mahler', 'Artur Alves', 'PaulDuanGitHub', 'Khem Raj', 'michael-doll', 'Harry R. Schwartz', 'xgreyskiesx', 'Ali Sani', 'Athlon1600', 'Eric Kerwin', 'Tfarcenim', 'King Lemming', 'Trinsdar', 'epistemik', 'John Ralls', 'Geert Janssens', 'willi', 'Michael Goodnow', 'dloush', 'Umesh', 'Vina', 'csagan5', 'lagunatlt', 'Pichi', 'SrSabetodo', 'tide-comunicacao', 'neilisaac', 'Jon Carlson', 'Nick N', 'Ronald M. Clifford', 'Kacper Ślusarczyk', 'Matt Schlenker', 'Anthony Alves', 'frederic2ec', 'Mina', 'Selfedelics', 'tarlepp', 'Talen Fisher', 'Troy Neubauer', 'nik707', 'Tristan', 'Thomas Hur', 'tengge1', 'jiokeokwuosa', 'Chloe Hollingsworth', 'almeida-samuel', 'Brian T. Rice', 'Lucas Pape', 'Jesse Lee', 'Todd Zmijewski', 'Mikael Hanell', 'Chou Hung-Yi', 'Eduardo Fernandez', 'billynguyenlss', 'Grégoire Joncour', 'Andrew Tridgell', 'Egor Kostan', 'Jeremy Daily', 'YT1v4', 'Jiun Kim', 'Michael Parker', 'Chris Schreiber', 'glipwebtest777', 'A-Zahra', 'yvt', 'xfmeng17', 'Victor Cuascut', 'masaki-tanaka927', 'Nilo Neregato', '小林信裕', 'ethaneee22', 'lucascheng', 'Raboliot Le Gris', 'nhloder', 'Oliver', 'hellenxu', 'AppEasyLevel', 'John', 'Bartłomiej Sienko', 'Yuan Hu', 'Arthur Vickers', 'Smit Patel', 'nemoluna', 'Abdul-fatai', 'Safiya', 'Shen Yang', 'Pieter Schutz', 'Carlos Arturo Vargas', 'Ryan Henning', 'David Ralph', 'Chaoyi He', 'Christian', 'mmetaa', 'Song', 'amir', 'scignscape-rz', 'Russell Standish', 'SuzeShardlow', 'haringma15', 'Mertcan GÖKGÖZ', 'Nejc Dougan', 'Vishnu Bharathi', 'Al', 'Guy', 'Gary Ritchie', 'Gary', 'TeaDrivenDev', 'santorregroza', 'pcubillos', 'tony0408', 'Ethan Hathaway', 'XiaoheiWorld', 'Eddie.Cai', 'Eddie Cai', 'Zain Wang', 'Jeffy Chen', 'Weixin Zhou', 'jkand.huang', 'yuyongzhen', 'Hunter Young', 'KRealm Web Services', 'Ramazan Celep', 'Christopher Jospeh Stryker', 'roboticslab', 'Anders Aamodt', 'Guligena Aierken', 'Robbie Gay', 'highwill', 'Peter Barker', 'Ryan Gurney', 'byte[]', 'Cory Henderson', 'Steven Zhu', 'Michael Park', 'Flutterlice', 'akircher', 'Sergei Gerasenko', 'LambdAurora', 'Dwight Hubbard', 'Michael Overmeyer', 'dhubbard', 'Austin Gill', 'Kesav Kadalazhi', 'charlesdanner', 'John Carver', 'shawngway', 'ShawnG', 'Kaylee', 'Thomas Roberts', 'Jun Mark Torii', 'himang1124', 'mobile-bungalow', 'amoore2600', 'Conor Casey', 'Todd McLeod', 'enpuyou', 'Ivan Shcheklein', 'Ekpenyong', 'AhmedOsama', 'davisc0801', 'Kent Roth', 'htstinson', 'Joshua Gorospe', '123d-com', 'cgiovano', 'Joe Honton', 'Mariano de Deus', 'Christopher Lakey', 'Mike King', 'Robert Cochran', 'Alan Da Costa', 'Dan Frost', 'dokyan1989', 'batmanwgd', 'Kyle Biggs', 'Michael Sanders', 'xyeimgs', 'mandeep489', 'LiftFork', 'Chris Kocks', 'Pierre-Marie Pédrot', 'Kazeem Onisarotu', 'wangguobin', 'lpg0', 'youssef muhamad', 'aunmro', 'Yona Appletree', 'Joe Garcia, CISSP', '7ma7X', 'MicrocosEm', 'Mohammed', 'CoryBorek', 'Zachary Rondos', 'gamsam', 'Milad Norouzi', 'Luc Rosenzweig', 'Keks', 'CorneliaKelinske', 'Ben Parli', 'Jeremy Evans', 'szabolaszlo', 'Tommy Chiang', 'Angel_Kitty', 'lIeSAUEr', 'Rick Marry', 'liESAUer', 'Maurice Perry', 'Ivan Acosta-Rubio', 'Conversation Learner Build', 'buildmaster', 'beyonce knowles', 'Jackie', 'Robert Brisita', 'Has3ong', 'Alecia Vogel', 'Eldinnie', 'TrainwreckOfThought', 'nicktackes', 'gccunanan', 'Charles_Kawczynski', 'bors[bot]', 'Terence Chang', 'Alvaro', 'Johnny Hu', 'TylerSpaulding', 'Taylor Cooke', 'Brad', 'Eddie Gomez', 'Eddie Gómez', 'Joe', 'Alrik Firl', 'Alex Kwiatkowski', 'shredofpiece', 'bbxyard', 'Couchbase Build Team', 'Anthony Mattson', 'Tzung-Chien', 'beginor', 'Adam Porter', 'Brad Heffernan', 'mrz1836', 'jacob guin', 'daniel', 'HaNaK0', 'Raphael Uziel', 'yujin_sakuma', 'charlie brannan', 'Roberto Abdelkader Martínez Pérez', 'Vina Melody', 'jaredbucko', 'Seyhan Halil', 'Chenna Kautilya', 'Raphael Garcia Moreira', 'Birger Evansson', 'Julian', 'Enigmatrix', 'BIM-Nest', 'Per Bergland', 'AlCalzone', 'Kevin Brown', 'Rudi Chen', 'Honza Kalfus', 'Peter Matta', 'Grimmer', 'pheromonez', 'Matteo Frana', 'Thomas Sondergaard', 'alexander diaz', 'Mulang Su', 'aimingqi', 'Dave Thomas', 'Lili-Mae Edwards', 'Kein', 'Antonio Mata', 'Natalie Tapias', 'swordarrow2', 'offwind1', 'Arct', 'Sen', 'Delfio', 'qikaigao', 'Jessica Triana', 'neonexe', 'derykmakgill', 'Madeleine Malmsten', 'Alessandro', 'kimseonghyeon96', 'imcoddy', 'Joshua Studt', 'DuckieTV BuildBot', 'CarlLazarus', 'dev-yakuza', 'Eddie', 'kiwixz', 'Wa-www', 'RevonZev', 'Michaël Catanzariti', 'Andrew Koebbe', 'Sean Morris', 'Martin Davis', 'woolimi', 'Brian Andress', 'AvinashTiwari85', 'Yomotsu', 'SchizoDuckie', 'Garfield69', 'Js41637 ftw', 'garfield69', 'hashashin', 'Connor Wong', 'brad vanderbush', 'BartechSpaceship', 'Rahulnsharma45', 'hkw', 'Nizal', 'trappertech', 'HITalexwang', 'jotrick', 'Hong Xu', 'Ben Holloway', 'alex-bul', 'Don McCaughey', 'nakaokagabriel', 'Nakaoka', 'dk', 'MJ Studio', 'leesungeun', 'Bartek', 'mika', 'Sixtomaster', 'Boris Rybalkin', 'MypDNS', 'Elliot Haisley', 'dhrumpy', 'Alex Forrence', 'Roberto Osorio', 'Brady Pascoe', 'Jerry Hong', 'anpaus', 'Nischal Hada', 'Caesar Ladion', 'NUR-HADI-E41181216', 'Anthony Petre', 'Stephen Ibanez', 'Taishawn King', 'Leandro Santos de Carvalho', 'Khan Baykaner', 'ibercovich', 'Yatzii', 'Fernando Sinigaglia', 'Orwill Towne', 'Erik Wramner', 'Nick Pappas', 'Michael Graeb', 'solareenlo', 'Alexander C', 'Hansel De La Cruz', 'thutasein', 'ctrl-i', 'Izaak van Dongen', 'Peyton Sonnefeld', 'ElanurGuduk', 'maofa', 'elbaro', 'Баранцев Степан', 'joanlb', 'Andrew Griswold', 'Andy Crocker', 'Josh Rolstad', 'Vici Shaweddy', 'Davis Terrence', 'Dannon', 'mvdbeek', 'Nicola Soranzo', 'guerler', 'Björn Grüning', 'Husen Lokhandwala Home', 'hkamran490', 'Sixeye', 'lzg', 'Nigel B. Peck', 'Zevest', 'matrayu', 'Aditya Ekawade', 'gowtham', 'acastroaraujo', 'Garrett Henderson-Tjarks', 'Panzerhandschuh', 'Chris Danis', 'Adith Widya Pradipta', 'Ken Galliher', 'kammitama5', 'sajad1993gh', 'fungi', 'yshah43', 'Melissa Morin', 'MistleHC', 'ghosthao.com', 'MisterSimple', 'App Academy Student', 'Tobi Ola', 'Jack Urso', 'brian white', 'csimal', 'SarKurd', 'hyago', 'travis', 'Steve McKinnon', 'Manasa Vesala', 'Elian Wonhalf', 'Matthew J. Hughes', 'Ryan Nemiroff', 'David Wendt', 'Gabriel Woitechen', 'markcruse', 'ephellon', 'Oleg Agafonov', 'Ivana Jankovic', 'zooduck', 'FlightlessMango', 'George Alan', 'ermiry', 'nice0001-angelo', 'Maria61', 'Derek Shigetomi', 'Jason Nelson', 'maciacco', 'Jeffrey Davis', 'hunter-heidenreich', 'wahidibrahimy', 'Michael Li', 'Bhagavandas', 'liyang', 'Ryan Davis', 'PikalaxALT', 'Dylan', 'Dylan K', 'codeHusky', 'Kasaract', 'Corey Farrell', 'rricher', 'Brandon Ebersohl', 'Jerad Maplethorpe', 'Lenin Alevski', 'Mark Rousskov', 'jeffrey d johnson', 'Zachary Yedidia', 'ifkirne', 'Christian Clauss', 'Wink Saville', 'Paha Akos', 'Hawken Rives', 'zachhildreth', 'ebisuke', 'Suizhe.Li', 'Luã Falcão', 'Anderson de Paula Andrade Medeiros', 'Nazrul Affiq Ahmad Amimar', 'Khafid Prayoga', 'Andreas Duschl', 'Timothy Soehnlin', 'Victor Wiebe', 'Vikram B Rojo', 'Bill Zissimopoulos', 'Beau Sherman', 'Scott Henderson', 'Stefan', 'Théo Zimmermann', 'minterger', 'Shruti', 'Kadeem Jackson', 'Gustavo Aguiar', 'João Victor Ramires Guimarães Brito', 'Nils Uliczka', 'kenichi04', 'punchdrunker', 'Dave Kelly', 'Benoit Goudreault-Emond', 'Daniel Lazur', 'syuheifujita', 'sparklyballs', 'B-Seite', 'ivanelfak', 'Hac', 'Lewis Kwong', 'Dicky Herlambang', 'Tony Morales', 'Karn Kaul', 'Brad Anderson', 'Trent Ellingsen', 'GloriousEggroll', 'Daniel Brannon', 'botdevXD', 'Emilio', 'Dmitri', 'voluble-system-8062', 'Suvash Shah Thakuri', 'karleee', 'Tianyue-Zhao', 'Jeremey Lee', 'Steve B', 'opttoopt', 'ywsing', 'neotsn neotsn', 'Marco Teixeira', 'Luis Cardiel', 'Khaled Mahmoud', 'srmward', 'Sara', 'azaelthecrak', 'Bental Tagor', 'Nick Mcco', 'tsugehara', 'Michael Jackson', 'Rob Culliton', 'Chandler King', 'egconley', 'SMC Management Task', 'Ethan Teague', 'VitorMac10', 'Justin Huang', 'tai1whip', 'deepak', 'esayson', 'Fred Hornsey', 'maxbachmann', 'Andrea Rodríguez', 'Jessica Bainbridge-Smith', 'yufeng04', 'pissang', 'Yi Shen', 'tkeffer@gmail.com', 'Penguin-Guru', 'tatcjho', 'DAVID SHIN', '404', 'Finto Machine User', 'Naim Sulejmani', 'weiguo xue', 'Gabriel Schulhof', 'Perelandra0x309', 'Jason Seidler', 'Jasper St. Pierre', 'James Upjohn', 'davidclifford', 'William Mack', 'KhioneusNevula', 'haller218', 'ed', 'jadcoinc', 'xuri', 'zhaoshenglong', 'bartmika', 'Kevin Romero Garcia', 'Ben V. Brown', 'Silvan Mosberger', 'Travis Builder', 'Tianwei Ni', 'algol60', 'David Liman', 'Abhay Ram', 'Ryan Mullett', 'Harold Carr', 'AkkshayK-98', 'Yuma Y', 'kuma lawrence shing', 'MishaDeineko1990', \"Nick O'Neill\", 'FosterSamuel', 'Welbert Hime', 'Travis Shirk', 'mligor', 'zrong', 'gabriel-chen', 'Florian Seidl -Schulz', 'Matthew', 'Minjie Zhu', 'Benjamin Rogge', 'Arindam Nayak', 'deepthi', 'Morgan Tocker', 'Deepthi Sigireddi', 'George McGuire', 'Scott Lahteine', 'liminghuang', 'rrampen', 'Viraf Karai', 'Kevin McGrevey', 'Shannon Lichtenwalter', 'labour-camp', 'liquewu', 'linze', 'Dan Pollak', 'Jesse Young', 'Daniel Azuma', 'Ryan Senanayake', 'Christopher M. Cantalupo', 'Stackage Build host', 'tchardes', 'Leonel Chaves', 'Ryuhouji', 'Mikazuki', 'YA', 'Brian Zenger', 'Tom Rodrigues', 'Sumu', 'choerams', 'moh-hassan', 'lasaga09', 'Caroline Nolasco', 'CLIFF CRELIN', 'aetter', 'Nicole Rothenay', 'BenjaminSantiago', 'ayerest', 'hayden7913', 'ONNX Scoreboard Bot @ Azure Pipelines', 'BenjaminRubio', 'jbrockmendel', 'duianto', 'steckerhalter', 'kiennq', 'Kien Nguyen', 'bbittiker1', 'Florin-Ciprian Bodin', 'Andy Situ', 'baiqiushi', 'Eugene Sadocoi', 'Me', 'Ivan Vermeyen', 'Ben Sommervlle', 'ryan woodsmall', 'Chad Carbert', 'Shane Jeffery', 'danielgaspar', 'Matteo Santavicca', 'GDV1', 'Marcos Longo', 'KS', 'Diego Fernando Rojas Quintero', 'joeldipops', 'Dominique Leuenberger', 'TalionDiscord', 'AKM Islam', 'Andrea Denisse Gómez', 'ei1125', 'Paul Gureghian', 'bizkin', 'takelley1', 'Ali Rizwan', 'Leonis0813', 'Bob Peng', 'Chau Tran', 'multimokia', 'jcarpenter', 'ZyCromerZ', 'user', 'Daisuke Fujimura (fd0)', 'Devoun', 'williamvietnguyen', 'Jonathan Morris', 'David Hoffman', 'Jack Zhou', 'Honza Bednář', 'Unit Test App', 'semihcayci', 'Tigermouthbear', 'Jeffrey Sojack', 'Liushui_Miaomiao', 'Shurt', 'Gabriel Antonio', 'iana', 'SoyBison', 'Opeyemi Adesina', 'Steve E. Fick', 'Oooqf', 'Guilherme', 'romankagan', 'Nazim Uddin', 'KensukeOta', 'mdworken', 'Gian Merlino', 'Farisalenezy', 'Zhi Chen', 'Wei Chen', 'opti21', 'Ye Luo', 'DeeplyDiligent', 'Deep Bhattacharyya', 'Travis CI User', 'Ben Gunn', 'Nebbie Zebbie', 'Tommy Huang', 'Matt Lewis', 'Josh Baker', 'Francisco Abarca', 'Lauren', 'mdwgti16', 'BlythePollard', 'Alex Roth', 'Joseph Budd', 'Lisa', 'Nandan Mankad', 'Atabek', 'Githubdonkey', 'sdet automation', 'Zachary Seebeck', 'pjt3591oo', 'Jacob Tonna', 'Peter McEwen', 'Kyryl Melekhin', 'Mustafa İlhan', 'Sam Kitano', 'jirvingphd', 'akeahey', 'Ron Martinez', 'alppm', 'Michael Rose', 'Regina Campos', 'Regina', 'Ruhi-1', 'Chazza', 'Douglas Gardner', 'aasr-cdev', 'Randy Hollines', 'PPC Retweets', 'Mike Wong', 'gwmatthews', 'Chet Husk', 'Sean Wu', 'dnbaker', 'Chef Expeditor', 'guo', 'Nengdong Zhuang', 'Kishan Jasani', 'caoshuai', 'Araq', 'Conrad Pankoff', 'Tibor Nagy', 'Stefano Cristiano', 'joshua stein', 'Andreas Kling', 'Kirill Kravtsov', 'mihaiblandu', 'Kayden Drake', 'Christopher Davis', 'majorna', 'gazwald', 'Alexandr Timofeev', 'superflouz', 'siimav', 'Singh-Jorra-215709876', 'koblog', 'Noah Klayman', 'lineman60', 'Jingyi Zhang', 'Y Z', 'Delwin Best', 'kunhwiko', 'Kristian Cole', 'mohipeasuke', 'krdlab', 'TimeVShow', 'Jorryn Decker Clement', '88-Rising', 'ratulm', 'Leonardo de Moura', 'Brad Miller', 'iotang', 'koy1619', 'Dave Halter', 'frainzy1477', 'andrewliden', 'Aaron D Borden']\n",
      "Jueliany\n",
      "['.']\n",
      "2800\n"
     ]
    }
   ],
   "source": [
    "keys=author_messages_dict.keys()\n",
    "authors=list(keys)\n",
    "print(authors)\n",
    "values=author_messages_dict.values()\n",
    "my_list=list(values)\n",
    "print(authors[16])\n",
    "print(my_list[16])\n",
    "print(len(authors))"
   ]
  },
  {
   "cell_type": "code",
   "execution_count": 22,
   "metadata": {},
   "outputs": [
    {
     "name": "stdout",
     "output_type": "stream",
     "text": [
      "Top 5 3-grams:\n",
      "Update footer.html Update - 5\n",
      "footer.html Update footer.html - 3\n",
      "Update index.html Update - 2\n",
      "footer.html Update index.html - 1\n",
      "index.html Update index.html - 1\n"
     ]
    }
   ],
   "source": [
    "from collections import Counter\n",
    "from itertools import islice\n",
    "\n",
    "def find_top_ngrams(strings, n=5):\n",
    "    # Join all strings into one long string\n",
    "    text = ' '.join(strings)\n",
    "    \n",
    "    # Tokenize the text into words\n",
    "    words = text.split()\n",
    "\n",
    "    # Generate all 3-grams\n",
    "    ngrams = zip(*[words[i:] for i in range(3)])\n",
    "    \n",
    "    # Count occurrences of each 3-gram\n",
    "    ngram_counts = Counter(ngrams)\n",
    "    \n",
    "    # Get the top n 3-grams sorted by frequency\n",
    "    top_ngrams = ngram_counts.most_common(n)\n",
    "    \n",
    "    return top_ngrams\n",
    "\n",
    "# Example usage\n",
    "strings = [\n",
    "    \"This is an example sentence.\",\n",
    "    \"Another example sentence with more words.\",\n",
    "    \"This is a third example sentence.\"\n",
    "]\n",
    "\n",
    "top_5_ngrams = find_top_ngrams(my_list[14])\n",
    "print(\"Top 5 3-grams:\")\n",
    "for ngram, count in top_5_ngrams:\n",
    "    print(' '.join(ngram), '-', count)\n",
    "\n"
   ]
  },
  {
   "cell_type": "code",
   "execution_count": 26,
   "metadata": {},
   "outputs": [
    {
     "name": "stdout",
     "output_type": "stream",
     "text": [
      "Requirement already satisfied: nltk in c:\\users\\steven_zhang2\\documents\\playground\\dataengin\\venv\\lib\\site-packages (3.8.1)\n",
      "Requirement already satisfied: click in c:\\users\\steven_zhang2\\documents\\playground\\dataengin\\venv\\lib\\site-packages (from nltk) (8.1.7)\n",
      "Requirement already satisfied: joblib in c:\\users\\steven_zhang2\\documents\\playground\\dataengin\\venv\\lib\\site-packages (from nltk) (1.3.2)\n",
      "Requirement already satisfied: regex>=2021.8.3 in c:\\users\\steven_zhang2\\documents\\playground\\dataengin\\venv\\lib\\site-packages (from nltk) (2023.12.25)\n",
      "Requirement already satisfied: tqdm in c:\\users\\steven_zhang2\\documents\\playground\\dataengin\\venv\\lib\\site-packages (from nltk) (4.66.2)\n",
      "Requirement already satisfied: colorama in c:\\users\\steven_zhang2\\documents\\playground\\dataengin\\venv\\lib\\site-packages (from click->nltk) (0.4.6)\n",
      "Note: you may need to restart the kernel to use updated packages.\n"
     ]
    }
   ],
   "source": [
    "%pip install nltk"
   ]
  },
  {
   "cell_type": "code",
   "execution_count": 4,
   "metadata": {},
   "outputs": [
    {
     "name": "stdout",
     "output_type": "stream",
     "text": [
      "Top 5 3-grams:\n",
      "c h   - 6\n",
      "  a s - 6\n",
      "a s   - 6\n",
      "r e   - 4\n",
      "  t h - 4\n",
      "[(('c', 'h', ' '), 6), ((' ', 'a', 's'), 6), (('a', 's', ' '), 6), (('r', 'e', ' '), 4), ((' ', 't', 'h'), 4)]\n"
     ]
    }
   ],
   "source": [
    "from collections import Counter\n",
    "from itertools import islice\n",
    "from nltk.util import ngrams\n",
    "import re\n",
    "\n",
    "def find_top_ngrams(strings, n=3, top=5):\n",
    "    # Initialize a Counter to store the counts of all n-grams\n",
    "    ngram_counts = Counter()\n",
    "\n",
    "    # Process each string separately\n",
    "    for string in strings:\n",
    "        # Tokenize the string into words\n",
    "        # words = re.findall(r'\\w+', string.lower())\n",
    "        punctuation_pattern= r'[^\\w\\s\\'s#]|\\b#\\d+'\n",
    "        removed_punctuation = re.sub(punctuation_pattern, '', string.lower())\n",
    "        stripped_spaces=re.sub(r'\\s+', ' ', removed_punctuation.strip())\n",
    "        words=stripped_spaces.split(' ')\n",
    "\n",
    "        # Generate 3-grams for the current string\n",
    "        string_ngrams = ngrams(words, n)\n",
    "\n",
    "        # Update the counts of 3-grams for the current string\n",
    "        ngram_counts.update(string_ngrams)\n",
    "\n",
    "    # Get the top n 3-grams sorted by frequency\n",
    "    top_ngrams = ngram_counts.most_common(top)\n",
    "\n",
    "    return top_ngrams\n",
    "\n",
    "# Example usage\n",
    "strings = [\n",
    "    \"quantifiers are all greedy; they match as much text as possible example sentence.\",\n",
    "    \"quantifiers are all greedy; they match as much text as possible more words.\",\n",
    "    \"quantifiers are all greedy; they match as much text as possible This is \"\n",
    "]\n",
    "\n",
    "top_5_ngrams = find_top_ngrams(strings)\n",
    "\n",
    "print(\"Top 5 3-grams:\")\n",
    "for ngram, count in top_5_ngrams:\n",
    "    print(' '.join(ngram), '-', count)\n",
    "\n",
    "print(top_5_ngrams)"
   ]
  },
  {
   "cell_type": "code",
   "execution_count": 11,
   "metadata": {},
   "outputs": [
    {
     "name": "stdout",
     "output_type": "stream",
     "text": [
      "quantifiers are #4 all greedy they #match as much text as possible example sentence\n",
      "['quantifiers', 'are', '#4', 'all', 'greedy', 'they', '#match', 'as', 'much', 'text', 'as', 'possible', 'example', 'sentence']\n"
     ]
    }
   ],
   "source": [
    "str= \"quantifiers are   #4 [all] <greedy>; ?they #match as much text as possible example sentence.\" \n",
    "punctuation_pattern= r'[^\\w\\s\\'s#]|\\b#\\d+'\n",
    "# words = re.findall(r'\\w+', string.lower())\n",
    "cleaned = re.sub(punctuation_pattern, '', str.lower())\n",
    "cleaned_text = re.sub(r'\\s+', ' ', cleaned)\n",
    "type(cleaned_text)\n",
    "print(cleaned_text)\n",
    "str_arr=cleaned_text.split(' ')\n",
    "print(str_arr)"
   ]
  },
  {
   "cell_type": "code",
   "execution_count": 73,
   "metadata": {},
   "outputs": [],
   "source": [
    "def generate_author_ngram_arr(author, top_5_ngrams):\n",
    "    if top_5_ngrams:\n",
    "        ngram_arr=[' '.join(t[0]) for t in top_5_ngrams]\n",
    "        author_ngram_arr=[author]+ngram_arr\n",
    "        return author_ngram_arr\n",
    "    "
   ]
  },
  {
   "cell_type": "code",
   "execution_count": 101,
   "metadata": {},
   "outputs": [],
   "source": [
    "res=generate_author_ngram_arr('test-data',[])"
   ]
  },
  {
   "cell_type": "code",
   "execution_count": 102,
   "metadata": {},
   "outputs": [],
   "source": [
    "data=[]\n",
    "\n",
    "for author, messages in author_messages_dict.items():\n",
    "    top_5_ngrams = find_top_ngrams(messages)\n",
    "    new_ngram_line=generate_author_ngram_arr(author, top_5_ngrams)\n",
    "    if new_ngram_line:\n",
    "        data.append(new_ngram_line)\n"
   ]
  },
  {
   "cell_type": "code",
   "execution_count": 107,
   "metadata": {},
   "outputs": [
    {
     "name": "stdout",
     "output_type": "stream",
     "text": [
      "CSV file has been created: output.csv\n"
     ]
    }
   ],
   "source": [
    "import csv\n",
    "\n",
    "# Define the path to the CSV file\n",
    "csv_file_path = 'output.csv'\n",
    "\n",
    "# Write the data to the CSV file\n",
    "with open(csv_file_path, 'w', newline='', encoding=\"utf8\") as csvfile:\n",
    "    csv_writer = csv.writer(csvfile)\n",
    "    csv_writer.writerows(data)\n",
    "\n",
    "print(\"CSV file has been created:\", csv_file_path)"
   ]
  }
 ],
 "metadata": {
  "kernelspec": {
   "display_name": "py-env",
   "language": "python",
   "name": "python3"
  },
  "language_info": {
   "codemirror_mode": {
    "name": "ipython",
    "version": 3
   },
   "file_extension": ".py",
   "mimetype": "text/x-python",
   "name": "python",
   "nbconvert_exporter": "python",
   "pygments_lexer": "ipython3",
   "version": "3.12.2"
  },
  "orig_nbformat": 4
 },
 "nbformat": 4,
 "nbformat_minor": 2
}
