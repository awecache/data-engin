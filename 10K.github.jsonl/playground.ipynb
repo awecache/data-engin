{
 "cells": [
  {
   "cell_type": "code",
   "execution_count": null,
   "metadata": {},
   "outputs": [],
   "source": [
    "import pandas as pd"
   ]
  },
  {
   "cell_type": "code",
   "execution_count": null,
   "metadata": {},
   "outputs": [],
   "source": [
    "filename='github.json'\n",
    "commits=pd.read_json(path_or_buf=filename, orient='records')\n"
   ]
  },
  {
   "cell_type": "code",
   "execution_count": null,
   "metadata": {},
   "outputs": [],
   "source": [
    "print(commits)"
   ]
  },
  {
   "cell_type": "code",
   "execution_count": 23,
   "metadata": {},
   "outputs": [],
   "source": [
    "import json"
   ]
  },
  {
   "cell_type": "code",
   "execution_count": 25,
   "metadata": {},
   "outputs": [],
   "source": [
    "filename='10K.github.jsonl'\n",
    "commits =[]\n",
    "with open(filename, encoding=\"utf8\") as commits_file:\n",
    "    for line in commits_file:\n",
    "        commits.append(json.loads(line))"
   ]
  },
  {
   "cell_type": "code",
   "execution_count": 26,
   "metadata": {},
   "outputs": [
    {
     "name": "stdout",
     "output_type": "stream",
     "text": [
      "{'id': '11185349967', 'type': 'PushEvent', 'actor': {'id': 8517910, 'login': 'LombiqBot', 'display_login': 'LombiqBot', 'gravatar_id': '', 'url': 'https://api.github.com/users/LombiqBot', 'avatar_url': 'https://avatars.githubusercontent.com/u/8517910?'}, 'repo': {'id': 46622658, 'name': 'Lombiq/Orchard-JavaScript.Net', 'url': 'https://api.github.com/repos/Lombiq/Orchard-JavaScript.Net'}, 'payload': {'push_id': 4450652982, 'size': 0, 'distinct_size': 0, 'ref': 'refs/heads/orchard-upgrade-1.9.2', 'head': 'f60b0996a30cfaf7ff15ce93e4f81da69df398fd', 'before': 'f60b0996a30cfaf7ff15ce93e4f81da69df398fd', 'commits': []}, 'public': True, 'created_at': '2020-01-01T00:41:01Z', 'org': {'id': 8158177, 'login': 'Lombiq', 'gravatar_id': '', 'url': 'https://api.github.com/orgs/Lombiq', 'avatar_url': 'https://avatars.githubusercontent.com/u/8158177?'}}\n"
     ]
    },
    {
     "data": {
      "text/plain": [
       "'11185349967'"
      ]
     },
     "execution_count": 26,
     "metadata": {},
     "output_type": "execute_result"
    }
   ],
   "source": [
    "print(commits[0])\n",
    "first_commit=commits[0];\n",
    "first_commit[\"id\"]\n"
   ]
  },
  {
   "cell_type": "code",
   "execution_count": 27,
   "metadata": {},
   "outputs": [
    {
     "data": {
      "text/plain": [
       "10000"
      ]
     },
     "execution_count": 27,
     "metadata": {},
     "output_type": "execute_result"
    }
   ],
   "source": [
    "len(commits)"
   ]
  }
 ],
 "metadata": {
  "kernelspec": {
   "display_name": "py-env",
   "language": "python",
   "name": "python3"
  },
  "language_info": {
   "codemirror_mode": {
    "name": "ipython",
    "version": 3
   },
   "file_extension": ".py",
   "mimetype": "text/x-python",
   "name": "python",
   "nbconvert_exporter": "python",
   "pygments_lexer": "ipython3",
   "version": "3.12.2"
  },
  "orig_nbformat": 4
 },
 "nbformat": 4,
 "nbformat_minor": 2
}
